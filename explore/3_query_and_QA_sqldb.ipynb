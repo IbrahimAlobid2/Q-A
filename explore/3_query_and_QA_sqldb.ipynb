{
 "cells": [
  {
   "cell_type": "markdown",
   "metadata": {},
   "source": [
    "https://python.langchain.com/docs/use_cases/sql/quickstart/"
   ]
  },
  {
   "cell_type": "markdown",
   "metadata": {},
   "source": [
    "### **Test the sqldb**"
   ]
  },
  {
   "cell_type": "code",
   "execution_count": 1,
   "metadata": {},
   "outputs": [],
   "source": [
    "from langchain_community.utilities import SQLDatabase\n",
    "from pyprojroot import here\n",
    "import warnings\n",
    "warnings.filterwarnings(\"ignore\")"
   ]
  },
  {
   "cell_type": "markdown",
   "metadata": {},
   "source": [
    "**Connecting to the sqldb**"
   ]
  },
  {
   "cell_type": "code",
   "execution_count": 2,
   "metadata": {},
   "outputs": [],
   "source": [
    "db_path = str(here(\"data\")) + \"/data_cars_price.db\"\n",
    "db = SQLDatabase.from_uri(f\"sqlite:///{db_path}\")"
   ]
  },
  {
   "cell_type": "code",
   "execution_count": 3,
   "metadata": {},
   "outputs": [
    {
     "data": {
      "text/plain": [
       "<langchain_community.utilities.sql_database.SQLDatabase at 0x1fb4303d5e0>"
      ]
     },
     "execution_count": 3,
     "metadata": {},
     "output_type": "execute_result"
    }
   ],
   "source": [
    "db"
   ]
  },
  {
   "cell_type": "code",
   "execution_count": 4,
   "metadata": {},
   "outputs": [
    {
     "name": "stdout",
     "output_type": "stream",
     "text": [
      "sqlite\n",
      "['cars']\n"
     ]
    },
    {
     "data": {
      "text/plain": [
       "\"[('BMW', '3 Series', 2018, '330i xDrive', '330i xDrive 4dr Sedan AWD (2.0L 4cyl Turbo 8A)', 'Sedan', 'I4', 'all wheel drive', 'gas', '363.4/521.4 mi.', '$39,795'), ('BMW', '3 Series', 2018, '340i', '340i 4dr Sedan (3.0L 6cyl Turbo 8A)', 'Sedan', 'I6', 'rear wheel drive', 'gas', '331.8/505.6 mi.', '$46,025'), ('BMW', '3 Series', 2018, '340i xDrive', '340i xDrive 4dr Sedan AWD (3.0L 6cyl Turbo 8A)', 'Sedan', 'I6', 'all wheel drive', 'gas', '331.8/489.8 mi.', '$47,885'), ('BMW', '3 Series', 2018, '328d', '328d 4dr Sedan (2.0L 4cyl Turbodiesel 8A)', 'Sedan', 'I4', 'rear wheel drive', 'diesel', '465.0/645.0 mi.', '$39,330'), ('BMW', '3 Series', 2018, '328d xDrive', '328d xDrive 4dr Sedan AWD (2.0L 4cyl Turbodiesel 8A)', 'Sedan', 'I4', 'all wheel drive', 'diesel', '450.0/600.0 mi.', '$41,190'), ('BMW', '3 Series', 2018, '328d xDrive', '328d xDrive 4dr Wagon AWD (2.0L 4cyl Turbodiesel 8A)', 'Wagon', 'I4', 'all wheel drive', 'diesel', '450.0/600.0 mi.', '$43,420'), ('BMW', '3 Series', 2018, '330i xDrive', '330i xDrive 4dr Wagon AWD (2.0L 4cyl Turbo 8A)', 'Wagon', 'I4', 'all wheel drive', 'gas', '363.4/521.4 mi.', '$42,025'), ('BMW', '3 Series', 2018, '330e iPerformance', '330e iPerformance 4dr Sedan (2.0L 4cyl Turbo gas/electric plug-in hybrid 8A)', 'Sedan', 'I4', 'rear wheel drive', 'plug-in hybrid', '302.4/259.2 mi.', '$42,910'), ('BMW', '3 Series', 2018, 'M3', 'M3 4dr Sedan (3.0L 6cyl Turbo 6M)', 'Sedan', 'I6', 'rear wheel drive', 'gas', '268.6/395.0 mi.', '$62,345'), ('BMW', '3 Series', 2018, 'M3', 'M3 CS 4dr Sedan (3.0L 6cyl Turbo 7A)', 'Sedan', 'I6', 'rear wheel drive', 'gas', '254.4/349.8 mi.', '$91,875')]\""
      ]
     },
     "execution_count": 4,
     "metadata": {},
     "output_type": "execute_result"
    }
   ],
   "source": [
    "# validate the connection to the vectordb\n",
    "print(db.dialect)\n",
    "print(db.get_usable_table_names())\n",
    "db.run(\"SELECT * FROM cars LIMIT 10;\")"
   ]
  },
  {
   "cell_type": "markdown",
   "metadata": {},
   "source": [
    "### **Test the access to the environment variables**"
   ]
  },
  {
   "cell_type": "code",
   "execution_count": 5,
   "metadata": {},
   "outputs": [
    {
     "name": "stdout",
     "output_type": "stream",
     "text": [
      "Environment variables are loaded: True\n",
      "test by reading a variable: None\n"
     ]
    }
   ],
   "source": [
    "from dotenv import load_dotenv\n",
    "import os\n",
    "print(\"Environment variables are loaded:\", load_dotenv())\n",
    "print(\"test by reading a variable:\", os.getenv(\"OPENAI_API_TYPE\"))"
   ]
  },
  {
   "cell_type": "code",
   "execution_count": 6,
   "metadata": {},
   "outputs": [],
   "source": [
    "from openai import AzureOpenAI\n",
    "from dotenv import load_dotenv\n",
    "import os\n",
    "\n",
    "    \n",
    "client = AzureOpenAI(\n",
    "    api_key=os.getenv(\"AZURE_OPENAI_GPT_API_KEY\"),  \n",
    "    api_version=\"2024-07-01-preview\",\n",
    "    azure_endpoint=os.getenv(\"AZURE_OPENAI_GPT_ENDPOINT\")\n",
    ")"
   ]
  },
  {
   "cell_type": "markdown",
   "metadata": {},
   "source": [
    "### **Test your GPT model**"
   ]
  },
  {
   "cell_type": "code",
   "execution_count": 7,
   "metadata": {},
   "outputs": [
    {
     "name": "stdout",
     "output_type": "stream",
     "text": [
      "Hello! How can I assist you today? 😊\n"
     ]
    }
   ],
   "source": [
    "from openai import AzureOpenAI\n",
    "\n",
    "messages = [\n",
    "    {\"role\": \"system\", \"content\": str(\n",
    "        \"You are a helpful assistant\"\n",
    "    )},\n",
    "    {\"role\": \"user\", \"content\": str(\"hello\")}\n",
    "]\n",
    "\n",
    "\n",
    "response = client.chat.completions.create(\n",
    "    model=os.getenv(\"MODEL_GPT_ID\"),\n",
    "    messages=messages\n",
    ")\n",
    "\n",
    "print(response.choices[0].message.content)"
   ]
  },
  {
   "cell_type": "code",
   "execution_count": 12,
   "metadata": {},
   "outputs": [],
   "source": [
    "# Load the LLM\n",
    "from langchain.chat_models import AzureChatOpenAI\n",
    "\n",
    "model_name = os.getenv(\"MODEL_GPT_ID\")\n",
    "azure_openai_api_key = os.getenv(\"AZURE_OPENAI_GPT_API_KEY\")\n",
    "azure_openai_endpoint = os.getenv(\"AZURE_OPENAI_GPT_ENDPOINT\")\n",
    "os.environ[\"AZURE_OPENAI_API_KEY\"]=os.getenv(\"AZURE_OPENAI_GPT_API_KEY\") \n",
    "os.environ[\"AZURE_OPENAI_ENDPOINT\"]=os.getenv(\"AZURE_OPENAI_GPT_ENDPOINT\") \n",
    "\n",
    "\n",
    "\n",
    "llm = AzureChatOpenAI(\n",
    "    openai_api_version=\"2024-07-01-preview\",\n",
    "    azure_deployment=model_name,\n",
    "    model_name=model_name,\n",
    "    temperature=0.0)"
   ]
  },
  {
   "cell_type": "markdown",
   "metadata": {},
   "source": [
    "### **1. SQL query chain**"
   ]
  },
  {
   "cell_type": "code",
   "execution_count": 13,
   "metadata": {},
   "outputs": [],
   "source": [
    "# Load the LLM\n",
    "from langchain.chat_models import AzureChatOpenAI\n",
    "\n",
    "llm = AzureChatOpenAI(\n",
    "    openai_api_version=\"2024-07-01-preview\",\n",
    "    azure_deployment=model_name,\n",
    "    model_name=model_name,\n",
    "    temperature=0.0)"
   ]
  },
  {
   "cell_type": "code",
   "execution_count": 15,
   "metadata": {},
   "outputs": [
    {
     "name": "stdout",
     "output_type": "stream",
     "text": [
      "```sql\n",
      "SELECT COUNT(*) AS \"Total_Cars\" FROM cars;\n",
      "```\n"
     ]
    }
   ],
   "source": [
    "from langchain.chains import create_sql_query_chain\n",
    "chain = create_sql_query_chain(llm, db)\n",
    "response = chain.invoke({\"question\": \"How many cars are there\"})\n",
    "print(response)"
   ]
  },
  {
   "cell_type": "code",
   "execution_count": 21,
   "metadata": {},
   "outputs": [
    {
     "name": "stdout",
     "output_type": "stream",
     "text": [
      "Clean SQL Query: SELECT COUNT(*) AS \"Total_Cars\" FROM cars;\n"
     ]
    }
   ],
   "source": [
    "from langchain.chains import create_sql_query_chain\n",
    "import re\n",
    "\n",
    "chain = create_sql_query_chain(llm, db)\n",
    "response = chain.invoke({\"question\": \"How many cars are there\"})\n",
    "\n",
    "\n",
    "if isinstance(response, dict):\n",
    "    sql_query = response.get(\"query\") or response.get(\"sql\") or \"\"\n",
    "else:\n",
    "    sql_query = response\n",
    "\n",
    "# Remove Markdown code block formatting (e.g., ```sql ... ```)\n",
    "sql_query_clean = re.sub(r\"```(?:\\w+)?\\n\", \"\", sql_query).strip()\n",
    "sql_query_clean = sql_query_clean.rstrip(\"```\").strip()\n",
    "\n",
    "print(\"Clean SQL Query:\", sql_query_clean)\n"
   ]
  },
  {
   "cell_type": "code",
   "execution_count": null,
   "metadata": {},
   "outputs": [],
   "source": [
    "import re\n",
    "from langchain_community.tools.sql_database.tool import QuerySQLDataBaseTool\n",
    "from langchain.chains import create_sql_query_chain\n",
    "\n",
    "# Define a function to remove Markdown formatting from the SQL query.\n",
    "def remove_markdown(sql_text: str) -> str:\n",
    "    # Remove the starting triple backticks and any language specifier (like \"sql\")\n",
    "    cleaned = re.sub(r\"```(?:sql)?\\n\", \"\", sql_text)\n",
    "    # Remove any trailing triple backticks\n",
    "    cleaned = re.sub(r\"```\", \"\", cleaned)\n",
    "    return cleaned.strip()\n",
    "\n",
    "# Create the query-writing chain.\n",
    "write_query = create_sql_query_chain(llm, db)\n",
    "\n",
    "# Invoke the chain to generate the SQL query.\n",
    "raw_response = write_query.invoke({\"question\": \"How many cars are there\"})\n",
    "\n",
    "# Depending on the chain's output format, extract the SQL query.\n",
    "# For example, if it's a string:\n",
    "if isinstance(raw_response, str):\n",
    "    raw_query = raw_response\n",
    "elif isinstance(raw_response, dict):\n",
    "    # Adjust the key name as needed.\n",
    "    raw_query = raw_response.get(\"query\", \"\")\n",
    "else:\n",
    "    raw_query = str(raw_response)\n",
    "\n",
    "# Clean the SQL query by removing Markdown formatting.\n",
    "clean_query = remove_markdown(raw_query)\n",
    "\n",
    "# Now execute the clean query.\n",
    "execute_query = QuerySQLDataBaseTool(db=db)\n",
    "result = execute_query.invoke({\"query\": clean_query})\n",
    "\n",
    "print(\"Generated SQL Query:\")\n",
    "print(clean_query)\n",
    "print(\"Execution Result:\")\n",
    "print(result)\n"
   ]
  },
  {
   "cell_type": "markdown",
   "metadata": {},
   "source": [
    "Execute the query to make sure it’s valid"
   ]
  },
  {
   "cell_type": "code",
   "execution_count": 22,
   "metadata": {},
   "outputs": [
    {
     "data": {
      "text/plain": [
       "'[(214,)]'"
      ]
     },
     "execution_count": 22,
     "metadata": {},
     "output_type": "execute_result"
    }
   ],
   "source": [
    "db.run(sql_query_clean)"
   ]
  },
  {
   "cell_type": "code",
   "execution_count": 23,
   "metadata": {},
   "outputs": [
    {
     "name": "stdout",
     "output_type": "stream",
     "text": [
      "You are a SQLite expert. Given an input question, first create a syntactically correct SQLite query to run, then look at the results of the query and return the answer to the input question.\n",
      "Unless the user specifies in the question a specific number of examples to obtain, query for at most 5 results using the LIMIT clause as per SQLite. You can order the results to return the most informative data in the database.\n",
      "Never query for all columns from a table. You must query only the columns that are needed to answer the question. Wrap each column name in double quotes (\") to denote them as delimited identifiers.\n",
      "Pay attention to use only the column names you can see in the tables below. Be careful to not query for columns that do not exist. Also, pay attention to which column is in which table.\n",
      "Pay attention to use date('now') function to get the current date, if the question involves \"today\".\n",
      "\n",
      "Use the following format:\n",
      "\n",
      "Question: Question here\n",
      "SQLQuery: SQL Query to run\n",
      "SQLResult: Result of the SQLQuery\n",
      "Answer: Final answer here\n",
      "\n",
      "Only use the following tables:\n",
      "\u001b[33;1m\u001b[1;3m{table_info}\u001b[0m\n",
      "\n",
      "Question: \u001b[33;1m\u001b[1;3m{input}\u001b[0m\n"
     ]
    }
   ],
   "source": [
    "chain.get_prompts()[0].pretty_print()"
   ]
  },
  {
   "cell_type": "markdown",
   "metadata": {},
   "source": [
    "### **Add QuerySQLDataBaseTool to the chain**\n",
    "Execute SQL query\n",
    "\n",
    "**This is the most dangerous part of creating a SQL chain.** Consider carefully if it is OK to run automated queries over your data. Minimize the database connection permissions as much as possible. Consider adding a human approval step to you chains before query execution (see below).\n",
    "\n",
    "We can use the QuerySQLDatabaseTool to easily add query execution to our chain:"
   ]
  },
  {
   "cell_type": "code",
   "execution_count": 24,
   "metadata": {},
   "outputs": [
    {
     "data": {
      "text/plain": [
       "'Error: (sqlite3.OperationalError) near \"```sql\\nSELECT COUNT(*) AS \"Total_Cars\" FROM cars;\\n```\": syntax error\\n[SQL: ```sql\\nSELECT COUNT(*) AS \"Total_Cars\" FROM cars;\\n```]\\n(Background on this error at: https://sqlalche.me/e/20/e3q8)'"
      ]
     },
     "execution_count": 24,
     "metadata": {},
     "output_type": "execute_result"
    }
   ],
   "source": [
    "from langchain_community.tools.sql_database.tool import QuerySQLDataBaseTool\n",
    "\n",
    "write_query = create_sql_query_chain(llm, db)\n",
    "execute_query = QuerySQLDataBaseTool(db=db)\n",
    "\n",
    "chain = write_query | execute_query\n",
    "\n",
    "chain.invoke({\"question\": \"How many cars are there\"})"
   ]
  },
  {
   "cell_type": "code",
   "execution_count": 26,
   "metadata": {},
   "outputs": [
    {
     "name": "stdout",
     "output_type": "stream",
     "text": [
      "Generated SQL Query:\n",
      "SELECT COUNT(*) AS \"Total_Cars\" FROM cars;\n",
      "Execution Result:\n",
      "[(214,)]\n"
     ]
    }
   ],
   "source": [
    "import re\n",
    "from langchain_community.tools.sql_database.tool import QuerySQLDataBaseTool\n",
    "from langchain.chains import create_sql_query_chain\n",
    "\n",
    "# Define a function to remove Markdown formatting from the SQL query.\n",
    "def remove_markdown(sql_text: str) -> str:\n",
    "    # Remove the starting triple backticks and any language specifier (like \"sql\")\n",
    "    cleaned = re.sub(r\"```(?:sql)?\\n\", \"\", sql_text)\n",
    "    # Remove any trailing triple backticks\n",
    "    cleaned = re.sub(r\"```\", \"\", cleaned)\n",
    "    return cleaned.strip()\n",
    "\n",
    "# Create the query-writing chain.\n",
    "write_query = create_sql_query_chain(llm, db)\n",
    "\n",
    "# Invoke the chain to generate the SQL query.\n",
    "raw_response = write_query.invoke({\"question\": \"How many cars are there\"})\n",
    "\n",
    "# Depending on the chain's output format, extract the SQL query.\n",
    "# For example, if it's a string:\n",
    "if isinstance(raw_response, str):\n",
    "    raw_query = raw_response\n",
    "elif isinstance(raw_response, dict):\n",
    "    # Adjust the key name as needed.\n",
    "    raw_query = raw_response.get(\"query\", \"\")\n",
    "else:\n",
    "    raw_query = str(raw_response)\n",
    "\n",
    "# Clean the SQL query by removing Markdown formatting.\n",
    "clean_query = remove_markdown(raw_query)\n",
    "\n",
    "# Now execute the clean query.\n",
    "execute_query = QuerySQLDataBaseTool(db=db)\n",
    "result = execute_query.invoke({\"query\": clean_query})\n",
    "\n",
    "print(\"Generated SQL Query:\")\n",
    "print(clean_query)\n",
    "print(\"Execution Result:\")\n",
    "print(result)\n"
   ]
  },
  {
   "cell_type": "markdown",
   "metadata": {},
   "source": [
    "### **Answer the question in a user friendly manner**"
   ]
  },
  {
   "cell_type": "code",
   "execution_count": 27,
   "metadata": {},
   "outputs": [
    {
     "data": {
      "text/plain": [
       "'The SQL query provided contains syntax errors due to the inclusion of unnecessary formatting markers (```sql). These markers are not valid SQL syntax and are causing the error. \\n\\nTo fix the issue, the query should be written as:\\n\\n```sql\\nSELECT COUNT(*) AS \"Total_Cars\" FROM cars;\\n```\\n\\nIf the corrected query is executed successfully, it will return the total number of cars in the `cars` table. However, since the query did not execute due to the error, the number of cars cannot be determined from the provided information. \\n\\nTo answer the user\\'s question, the query needs to be corrected and re-executed.'"
      ]
     },
     "execution_count": 27,
     "metadata": {},
     "output_type": "execute_result"
    }
   ],
   "source": [
    "from operator import itemgetter\n",
    "from langchain_core.output_parsers import StrOutputParser\n",
    "from langchain_core.prompts import PromptTemplate\n",
    "from langchain_core.runnables import RunnablePassthrough\n",
    "\n",
    "answer_prompt = PromptTemplate.from_template(\n",
    "    \"\"\"Given the following user question, corresponding SQL query, and SQL result, answer the user question.\n",
    "\n",
    "Question: {question}\n",
    "SQL Query: {query}\n",
    "SQL Result: {result}\n",
    "Answer: \"\"\"\n",
    ")\n",
    "\n",
    "answer = answer_prompt | llm | StrOutputParser()\n",
    "chain = (\n",
    "    RunnablePassthrough.assign(query=write_query).assign(\n",
    "        result=itemgetter(\"query\") | execute_query\n",
    "    )\n",
    "    | answer\n",
    ")\n",
    "\n",
    "chain.invoke({\"question\": \"How many cars are there\"})"
   ]
  },
  {
   "cell_type": "code",
   "execution_count": 29,
   "metadata": {},
   "outputs": [
    {
     "name": "stdout",
     "output_type": "stream",
     "text": [
      "There are 214 cars.\n"
     ]
    }
   ],
   "source": [
    "import re\n",
    "from operator import itemgetter\n",
    "from langchain_core.output_parsers import StrOutputParser\n",
    "from langchain_core.prompts import PromptTemplate\n",
    "from langchain_core.runnables import RunnablePassthrough, RunnableLambda\n",
    "\n",
    "# Define a function to remove markdown formatting from SQL query text.\n",
    "def remove_markdown(sql_text: str) -> str:\n",
    "    # Remove starting triple backticks and optional \"sql\" language tag.\n",
    "    cleaned = re.sub(r\"```(?:sql)?\\n\", \"\", sql_text)\n",
    "    # Remove any trailing triple backticks.\n",
    "    cleaned = re.sub(r\"```\", \"\", cleaned)\n",
    "    return cleaned.strip()\n",
    "\n",
    "# Create a runnable version of the markdown removal function.\n",
    "remove_markdown_runnable = RunnableLambda(remove_markdown)\n",
    "\n",
    "# Your answer prompt remains the same.\n",
    "answer_prompt = PromptTemplate.from_template(\n",
    "    \"\"\"Given the following user question, corresponding SQL query, and SQL result, answer the user question.\n",
    "\n",
    "Question: {question}\n",
    "SQL Query: {query}\n",
    "SQL Result: {result}\n",
    "Answer: \"\"\"\n",
    ")\n",
    "\n",
    "# Build the answer chain.\n",
    "answer = answer_prompt | llm | StrOutputParser()\n",
    "\n",
    "chain = (\n",
    "    RunnablePassthrough.assign(query=write_query | remove_markdown_runnable)\n",
    "    .assign(result=itemgetter(\"query\") | execute_query)\n",
    "    | answer\n",
    ")\n",
    "\n",
    "# Invoke the chain.\n",
    "final_response = chain.invoke({\"question\": \"How many cars are there\"})\n",
    "print(final_response)\n"
   ]
  },
  {
   "cell_type": "markdown",
   "metadata": {},
   "source": [
    "### **2. Agents**\n",
    "\n",
    "Agent which provides a more flexible way of interacting with SQL databases. The main advantages of using the SQL Agent are:\n",
    "\n",
    "- It can answer questions based on the databases’ schema as well as on the databases’ content (like describing a specific table).\n",
    "- It can recover from errors by running a generated query, catching the traceback and regenerating it correctly.\n",
    "- It can answer questions that require multiple dependent queries.\n",
    "- It will save tokens by only considering the schema from relevant tables.\n",
    "\n",
    "To initialize the agent, we use create_sql_agent function. This agent contains the SQLDatabaseToolkit which contains tools to:\n",
    "\n",
    "- Create and execute queries\n",
    "- Check query syntax\n",
    "- Retrieve table descriptions\n",
    "- …"
   ]
  },
  {
   "cell_type": "code",
   "execution_count": 13,
   "metadata": {},
   "outputs": [],
   "source": [
    "from langchain_community.agent_toolkits import create_sql_agent\n",
    "\n",
    "agent_executor = create_sql_agent(llm, db=db, agent_type=\"openai-tools\", verbose=True)"
   ]
  },
  {
   "cell_type": "code",
   "execution_count": 14,
   "metadata": {},
   "outputs": [
    {
     "name": "stdout",
     "output_type": "stream",
     "text": [
      "\n",
      "\n",
      "\u001b[1m> Entering new SQL Agent Executor chain...\u001b[0m\n",
      "\u001b[32;1m\u001b[1;3m\n",
      "Invoking: `sql_db_list_tables` with `{}`\n",
      "\n",
      "\n",
      "\u001b[0m\u001b[38;5;200m\u001b[1;3mAlbum, Artist, Customer, Employee, Genre, Invoice, InvoiceLine, MediaType, Playlist, PlaylistTrack, Track\u001b[0m\u001b[32;1m\u001b[1;3m\n",
      "Invoking: `sql_db_schema` with `{'table_names': 'Invoice,Customer'}`\n",
      "\n",
      "\n",
      "\u001b[0m\u001b[33;1m\u001b[1;3m\n",
      "CREATE TABLE \"Customer\" (\n",
      "\t\"CustomerId\" INTEGER NOT NULL, \n",
      "\t\"FirstName\" NVARCHAR(40) NOT NULL, \n",
      "\t\"LastName\" NVARCHAR(20) NOT NULL, \n",
      "\t\"Company\" NVARCHAR(80), \n",
      "\t\"Address\" NVARCHAR(70), \n",
      "\t\"City\" NVARCHAR(40), \n",
      "\t\"State\" NVARCHAR(40), \n",
      "\t\"Country\" NVARCHAR(40), \n",
      "\t\"PostalCode\" NVARCHAR(10), \n",
      "\t\"Phone\" NVARCHAR(24), \n",
      "\t\"Fax\" NVARCHAR(24), \n",
      "\t\"Email\" NVARCHAR(60) NOT NULL, \n",
      "\t\"SupportRepId\" INTEGER, \n",
      "\tPRIMARY KEY (\"CustomerId\"), \n",
      "\tFOREIGN KEY(\"SupportRepId\") REFERENCES \"Employee\" (\"EmployeeId\")\n",
      ")\n",
      "\n",
      "/*\n",
      "3 rows from Customer table:\n",
      "CustomerId\tFirstName\tLastName\tCompany\tAddress\tCity\tState\tCountry\tPostalCode\tPhone\tFax\tEmail\tSupportRepId\n",
      "1\tLuís\tGonçalves\tEmbraer - Empresa Brasileira de Aeronáutica S.A.\tAv. Brigadeiro Faria Lima, 2170\tSão José dos Campos\tSP\tBrazil\t12227-000\t+55 (12) 3923-5555\t+55 (12) 3923-5566\tluisg@embraer.com.br\t3\n",
      "2\tLeonie\tKöhler\tNone\tTheodor-Heuss-Straße 34\tStuttgart\tNone\tGermany\t70174\t+49 0711 2842222\tNone\tleonekohler@surfeu.de\t5\n",
      "3\tFrançois\tTremblay\tNone\t1498 rue Bélanger\tMontréal\tQC\tCanada\tH2G 1A7\t+1 (514) 721-4711\tNone\tftremblay@gmail.com\t3\n",
      "*/\n",
      "\n",
      "\n",
      "CREATE TABLE \"Invoice\" (\n",
      "\t\"InvoiceId\" INTEGER NOT NULL, \n",
      "\t\"CustomerId\" INTEGER NOT NULL, \n",
      "\t\"InvoiceDate\" DATETIME NOT NULL, \n",
      "\t\"BillingAddress\" NVARCHAR(70), \n",
      "\t\"BillingCity\" NVARCHAR(40), \n",
      "\t\"BillingState\" NVARCHAR(40), \n",
      "\t\"BillingCountry\" NVARCHAR(40), \n",
      "\t\"BillingPostalCode\" NVARCHAR(10), \n",
      "\t\"Total\" NUMERIC(10, 2) NOT NULL, \n",
      "\tPRIMARY KEY (\"InvoiceId\"), \n",
      "\tFOREIGN KEY(\"CustomerId\") REFERENCES \"Customer\" (\"CustomerId\")\n",
      ")\n",
      "\n",
      "/*\n",
      "3 rows from Invoice table:\n",
      "InvoiceId\tCustomerId\tInvoiceDate\tBillingAddress\tBillingCity\tBillingState\tBillingCountry\tBillingPostalCode\tTotal\n",
      "1\t2\t2021-01-01 00:00:00\tTheodor-Heuss-Straße 34\tStuttgart\tNone\tGermany\t70174\t1.98\n",
      "2\t4\t2021-01-02 00:00:00\tUllevålsveien 14\tOslo\tNone\tNorway\t0171\t3.96\n",
      "3\t8\t2021-01-03 00:00:00\tGrétrystraat 63\tBrussels\tNone\tBelgium\t1000\t5.94\n",
      "*/\u001b[0m\u001b[32;1m\u001b[1;3m\n",
      "Invoking: `sql_db_query` with `{'query': 'SELECT c.Country, SUM(i.Total) AS TotalSales FROM Customer c JOIN Invoice i ON c.CustomerId = i.CustomerId GROUP BY c.Country ORDER BY TotalSales DESC LIMIT 1;'}`\n",
      "responded: Based on the schema of the `Customer` and `Invoice` tables, I can see that I need to join these two tables on the `CustomerId` column to get the total sales per country. Then, I can group the results by country and calculate the sum of the total sales. Finally, I can order the results in descending order of the total sales to find out which country's customers spent the most.\n",
      "\n",
      "Here is the SQL query to retrieve the total sales per country and find the country with the highest spending:\n",
      "\n",
      "```sql\n",
      "SELECT c.Country, SUM(i.Total) AS TotalSales\n",
      "FROM Customer c\n",
      "JOIN Invoice i ON c.CustomerId = i.CustomerId\n",
      "GROUP BY c.Country\n",
      "ORDER BY TotalSales DESC\n",
      "LIMIT 1;\n",
      "```\n",
      "\n",
      "Let me execute this query to get the answer.\n",
      "\n",
      "\u001b[0m\u001b[36;1m\u001b[1;3m[('USA', 523.0600000000003)]\u001b[0m\u001b[32;1m\u001b[1;3mThe country whose customers spent the most is the USA. The total sales from customers in the USA is $523.06.\u001b[0m\n",
      "\n",
      "\u001b[1m> Finished chain.\u001b[0m\n"
     ]
    },
    {
     "data": {
      "text/plain": [
       "{'input': \"List the total sales per country. Which country's customers spent the most?\",\n",
       " 'output': 'The country whose customers spent the most is the USA. The total sales from customers in the USA is $523.06.'}"
      ]
     },
     "execution_count": 14,
     "metadata": {},
     "output_type": "execute_result"
    }
   ],
   "source": [
    "agent_executor.invoke(\n",
    "    {\n",
    "        \"input\": \"List the total sales per country. Which country's customers spent the most?\"\n",
    "    }\n",
    ")"
   ]
  },
  {
   "cell_type": "code",
   "execution_count": 15,
   "metadata": {},
   "outputs": [
    {
     "name": "stdout",
     "output_type": "stream",
     "text": [
      "\n",
      "\n",
      "\u001b[1m> Entering new SQL Agent Executor chain...\u001b[0m\n",
      "\u001b[32;1m\u001b[1;3m\n",
      "Invoking: `sql_db_list_tables` with `{}`\n",
      "\n",
      "\n",
      "\u001b[0m\u001b[38;5;200m\u001b[1;3mAlbum, Artist, Customer, Employee, Genre, Invoice, InvoiceLine, MediaType, Playlist, PlaylistTrack, Track\u001b[0m\u001b[32;1m\u001b[1;3m\n",
      "Invoking: `sql_db_schema` with `{'table_names': 'PlaylistTrack'}`\n",
      "\n",
      "\n",
      "\u001b[0m\u001b[33;1m\u001b[1;3m\n",
      "CREATE TABLE \"PlaylistTrack\" (\n",
      "\t\"PlaylistId\" INTEGER NOT NULL, \n",
      "\t\"TrackId\" INTEGER NOT NULL, \n",
      "\tPRIMARY KEY (\"PlaylistId\", \"TrackId\"), \n",
      "\tFOREIGN KEY(\"TrackId\") REFERENCES \"Track\" (\"TrackId\"), \n",
      "\tFOREIGN KEY(\"PlaylistId\") REFERENCES \"Playlist\" (\"PlaylistId\")\n",
      ")\n",
      "\n",
      "/*\n",
      "3 rows from PlaylistTrack table:\n",
      "PlaylistId\tTrackId\n",
      "1\t3402\n",
      "1\t3389\n",
      "1\t3390\n",
      "*/\u001b[0m\u001b[32;1m\u001b[1;3mThe `PlaylistTrack` table has two columns: `PlaylistId` and `TrackId`. It is a junction table that represents the relationship between playlists and tracks. The `PlaylistId` column is a foreign key referencing the `Playlist` table, and the `TrackId` column is a foreign key referencing the `Track` table. The primary key of the table is a combination of both columns.\n",
      "\n",
      "Here are three sample rows from the `PlaylistTrack` table:\n",
      "\n",
      "| PlaylistId | TrackId |\n",
      "|------------|---------|\n",
      "| 1          | 3402    |\n",
      "| 1          | 3389    |\n",
      "| 1          | 3390    |\u001b[0m\n",
      "\n",
      "\u001b[1m> Finished chain.\u001b[0m\n"
     ]
    },
    {
     "data": {
      "text/plain": [
       "{'input': 'Describe the playlisttrack table',\n",
       " 'output': 'The `PlaylistTrack` table has two columns: `PlaylistId` and `TrackId`. It is a junction table that represents the relationship between playlists and tracks. The `PlaylistId` column is a foreign key referencing the `Playlist` table, and the `TrackId` column is a foreign key referencing the `Track` table. The primary key of the table is a combination of both columns.\\n\\nHere are three sample rows from the `PlaylistTrack` table:\\n\\n| PlaylistId | TrackId |\\n|------------|---------|\\n| 1          | 3402    |\\n| 1          | 3389    |\\n| 1          | 3390    |'}"
      ]
     },
     "execution_count": 15,
     "metadata": {},
     "output_type": "execute_result"
    }
   ],
   "source": [
    "agent_executor.invoke({\"input\": \"Describe the playlisttrack table\"})\n",
    "# agent_executor.invoke(\"Describe the playlisttrack table\")"
   ]
  }
 ],
 "metadata": {
  "kernelspec": {
   "display_name": "env_langchain",
   "language": "python",
   "name": "env_langchain"
  },
  "language_info": {
   "codemirror_mode": {
    "name": "ipython",
    "version": 3
   },
   "file_extension": ".py",
   "mimetype": "text/x-python",
   "name": "python",
   "nbconvert_exporter": "python",
   "pygments_lexer": "ipython3",
   "version": "3.8.20"
  },
  "widgets": {
   "application/vnd.jupyter.widget-state+json": {
    "state": {},
    "version_major": 2,
    "version_minor": 0
   }
  }
 },
 "nbformat": 4,
 "nbformat_minor": 4
}
