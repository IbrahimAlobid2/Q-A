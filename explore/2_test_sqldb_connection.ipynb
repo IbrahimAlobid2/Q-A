{
 "cells": [
  {
   "cell_type": "code",
   "execution_count": 3,
   "metadata": {},
   "outputs": [],
   "source": [
    "from pyprojroot import here\n",
    "db_path = str(here(\"data\")) + \"/data_cars_price.db\""
   ]
  },
  {
   "cell_type": "code",
   "execution_count": 5,
   "metadata": {},
   "outputs": [
    {
     "name": "stdout",
     "output_type": "stream",
     "text": [
      "sqlite\n",
      "['cars']\n"
     ]
    },
    {
     "data": {
      "text/plain": [
       "\"[('BMW', '3 Series', 2018, '330i xDrive', '330i xDrive 4dr Sedan AWD (2.0L 4cyl Turbo 8A)', 'Sedan', 'I4', 'all wheel drive', 'gas', '363.4/521.4 mi.', '$39,795'), ('BMW', '3 Series', 2018, '340i', '340i 4dr Sedan (3.0L 6cyl Turbo 8A)', 'Sedan', 'I6', 'rear wheel drive', 'gas', '331.8/505.6 mi.', '$46,025'), ('BMW', '3 Series', 2018, '340i xDrive', '340i xDrive 4dr Sedan AWD (3.0L 6cyl Turbo 8A)', 'Sedan', 'I6', 'all wheel drive', 'gas', '331.8/489.8 mi.', '$47,885'), ('BMW', '3 Series', 2018, '328d', '328d 4dr Sedan (2.0L 4cyl Turbodiesel 8A)', 'Sedan', 'I4', 'rear wheel drive', 'diesel', '465.0/645.0 mi.', '$39,330'), ('BMW', '3 Series', 2018, '328d xDrive', '328d xDrive 4dr Sedan AWD (2.0L 4cyl Turbodiesel 8A)', 'Sedan', 'I4', 'all wheel drive', 'diesel', '450.0/600.0 mi.', '$41,190'), ('BMW', '3 Series', 2018, '328d xDrive', '328d xDrive 4dr Wagon AWD (2.0L 4cyl Turbodiesel 8A)', 'Wagon', 'I4', 'all wheel drive', 'diesel', '450.0/600.0 mi.', '$43,420'), ('BMW', '3 Series', 2018, '330i xDrive', '330i xDrive 4dr Wagon AWD (2.0L 4cyl Turbo 8A)', 'Wagon', 'I4', 'all wheel drive', 'gas', '363.4/521.4 mi.', '$42,025'), ('BMW', '3 Series', 2018, '330e iPerformance', '330e iPerformance 4dr Sedan (2.0L 4cyl Turbo gas/electric plug-in hybrid 8A)', 'Sedan', 'I4', 'rear wheel drive', 'plug-in hybrid', '302.4/259.2 mi.', '$42,910'), ('BMW', '3 Series', 2018, 'M3', 'M3 4dr Sedan (3.0L 6cyl Turbo 6M)', 'Sedan', 'I6', 'rear wheel drive', 'gas', '268.6/395.0 mi.', '$62,345'), ('BMW', '3 Series', 2018, 'M3', 'M3 CS 4dr Sedan (3.0L 6cyl Turbo 7A)', 'Sedan', 'I6', 'rear wheel drive', 'gas', '254.4/349.8 mi.', '$91,875')]\""
      ]
     },
     "execution_count": 5,
     "metadata": {},
     "output_type": "execute_result"
    }
   ],
   "source": [
    "from langchain_community.utilities import SQLDatabase\n",
    "db = SQLDatabase.from_uri(f\"sqlite:///{db_path}\")\n",
    "print(db.dialect)\n",
    "print(db.get_usable_table_names())\n",
    "db.run(\"SELECT * FROM cars LIMIT 10;\")"
   ]
  },
  {
   "cell_type": "markdown",
   "metadata": {},
   "source": [
    "**Inspect the sql database**"
   ]
  },
  {
   "cell_type": "code",
   "execution_count": 6,
   "metadata": {},
   "outputs": [
    {
     "name": "stdout",
     "output_type": "stream",
     "text": [
      "Tables: ['cars']\n",
      "Information for table: cars\n",
      "Schema: ['main']\n",
      "Column: Make Type: TEXT\n",
      "Column: Model Type: TEXT\n",
      "Column: Year Type: INTEGER\n",
      "Column: Trim Type: TEXT\n",
      "Column: Trim_(description) Type: TEXT\n",
      "Column: Body_type Type: TEXT\n",
      "Column: Cylinders Type: TEXT\n",
      "Column: Drive_type Type: TEXT\n",
      "Column: Engine_type Type: TEXT\n",
      "Column: Range_in_miles_(city/hwy) Type: TEXT\n",
      "Column: Base_Invoice Type: TEXT\n",
      "Primary Key Constraint: {'name': None, 'constrained_columns': []}\n",
      "Foreign Keys: []\n"
     ]
    }
   ],
   "source": [
    "from sqlalchemy import create_engine, inspect\n",
    "\n",
    "# Create an engine that connects to the test.db SQLite database\n",
    "engine = create_engine(f\"sqlite:///{db_path}\")\n",
    "\n",
    "# Connect to the database\n",
    "connection = engine.connect()\n",
    "\n",
    "# Create an inspector object\n",
    "inspector = inspect(engine)\n",
    "\n",
    "# Retrieve the names of all the tables in the database\n",
    "table_names = inspector.get_table_names()\n",
    "print(\"Tables:\", table_names)\n",
    "\n",
    "# Loop over each table to get detailed information like schema, columns, etc.\n",
    "for table_name in table_names:\n",
    "    print(f\"Information for table: {table_name}\")\n",
    "    \n",
    "    # Get the schema of the table (for SQLite, schema is often None)\n",
    "    print(f\"Schema: {inspector.get_schema_names()}\")\n",
    "    \n",
    "    # Get the columns and their attributes for each table\n",
    "    columns = inspector.get_columns(table_name)\n",
    "    for column in columns:\n",
    "        print(f\"Column: {column['name']} Type: {column['type']}\")\n",
    "    \n",
    "    # Additionally, you can use get_pk_constraint and get_foreign_keys \n",
    "    # methods to retrieve information about primary and foreign keys respectively\n",
    "    pk_constraint = inspector.get_pk_constraint(table_name)\n",
    "    print(f\"Primary Key Constraint: {pk_constraint}\")\n",
    "\n",
    "    foreign_keys = inspector.get_foreign_keys(table_name)\n",
    "    print(f\"Foreign Keys: {foreign_keys}\")\n",
    "\n",
    "# Do not forget to close the connection when done\n",
    "connection.close()"
   ]
  },
  {
   "cell_type": "code",
   "execution_count": 6,
   "metadata": {},
   "outputs": [
    {
     "data": {
      "text/plain": [
       "<sqlalchemy.engine.reflection.Inspector at 0x1cbbc0646d0>"
      ]
     },
     "execution_count": 6,
     "metadata": {},
     "output_type": "execute_result"
    }
   ],
   "source": []
  }
 ],
 "metadata": {
  "kernelspec": {
   "display_name": "env_langchain",
   "language": "python",
   "name": "env_langchain"
  },
  "language_info": {
   "codemirror_mode": {
    "name": "ipython",
    "version": 3
   },
   "file_extension": ".py",
   "mimetype": "text/x-python",
   "name": "python",
   "nbconvert_exporter": "python",
   "pygments_lexer": "ipython3",
   "version": "3.8.20"
  },
  "widgets": {
   "application/vnd.jupyter.widget-state+json": {
    "state": {},
    "version_major": 2,
    "version_minor": 0
   }
  }
 },
 "nbformat": 4,
 "nbformat_minor": 4
}
